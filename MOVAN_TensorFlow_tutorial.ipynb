{
 "cells": [
  {
   "cell_type": "code",
   "execution_count": 1,
   "metadata": {
    "collapsed": true
   },
   "outputs": [],
   "source": [
    "import numpy as np\n",
    "import tensorflow as tf"
   ]
  },
  {
   "cell_type": "code",
   "execution_count": 6,
   "metadata": {},
   "outputs": [
    {
     "name": "stdout",
     "output_type": "stream",
     "text": [
      "0 [ 0.73034257] [-0.10032479]\n",
      "20 [ 0.28221366] [ 0.19555578]\n",
      "40 [ 0.15130268] [ 0.27059349]\n",
      "60 [ 0.11444438] [ 0.29172054]\n",
      "80 [ 0.10406685] [ 0.2976689]\n",
      "100 [ 0.10114505] [ 0.29934368]\n",
      "120 [ 0.1003224] [ 0.29981521]\n",
      "140 [ 0.10009078] [ 0.29994798]\n",
      "160 [ 0.10002557] [ 0.29998535]\n",
      "180 [ 0.10000723] [ 0.29999587]\n",
      "200 [ 0.10000204] [ 0.29999885]\n"
     ]
    }
   ],
   "source": [
    "# create data\n",
    "x_data = np.random.rand(100).astype(np.float32)\n",
    "y_data = x_data * 0.1 + 0.3\n",
    "\n",
    "## create tensorflow structure start##\n",
    "weights = tf.Variable(tf.random_uniform([1], -1.0, 1.0))\n",
    "biases = tf.Variable(tf.zeros([1]))\n",
    "y = weights * x_data + biases\n",
    "\n",
    "# create loss and optimizer\n",
    "loss = tf.reduce_mean(tf.square(y - y_data))\n",
    "optimizer = tf.train.GradientDescentOptimizer(0.5)\n",
    "\n",
    "train = optimizer.minimize(loss)\n",
    "## create tensorflow structure end##\n",
    "\n",
    "init = tf.global_variables_initializer()\n",
    "with tf.Session() as sess:\n",
    "    sess.run(init)\n",
    "    for step in range(201):\n",
    "        sess.run(train)\n",
    "        if(step % 20 == 0):\n",
    "            print(step, sess.run(weights), sess.run(biases))"
   ]
  },
  {
   "cell_type": "markdown",
   "metadata": {},
   "source": [
    "### Session Tutorial"
   ]
  },
  {
   "cell_type": "code",
   "execution_count": 10,
   "metadata": {},
   "outputs": [
    {
     "name": "stdout",
     "output_type": "stream",
     "text": [
      "[[12]]\n"
     ]
    }
   ],
   "source": [
    "matrix1 = tf.constant([[3, 3]])\n",
    "matrix2 = tf.constant([[2],\n",
    "                       [2]])\n",
    "product = tf.matmul(matrix1, matrix2)\n",
    "with tf.Session() as sess:\n",
    "    print(sess.run(product))"
   ]
  },
  {
   "cell_type": "markdown",
   "metadata": {},
   "source": [
    "### Variable Tutorial"
   ]
  },
  {
   "cell_type": "code",
   "execution_count": 23,
   "metadata": {},
   "outputs": [
    {
     "name": "stdout",
     "output_type": "stream",
     "text": [
      "Before update: state =  0\n",
      "After update  1 : state =  1\n",
      "After update  2 : state =  2\n",
      "After update  3 : state =  3\n"
     ]
    }
   ],
   "source": [
    "state = tf.Variable(0, name='counter')\n",
    "# print(state.name)\n",
    "\n",
    "# 1.0 之前版本不支持new_value = state + 1格式\n",
    "one = tf.constant(1)\n",
    "new_value = tf.add(state, one)\n",
    "# assign方法将第二个参数的值分配给第一个参数，此时state与new_value的值相等\n",
    "update = tf.assign(state, new_value)\n",
    "\n",
    "# 1.0 之后版本支持变量直接加常量的操作\n",
    "# new_value = state + 1\n",
    "init = tf.global_variables_initializer()\n",
    "\n",
    "with tf.Session() as sess:\n",
    "    sess.run(init)\n",
    "    print('Before update: state = ', sess.run(state))    # 更新前\n",
    "    for _ in range(3):\n",
    "        sess.run(update)\n",
    "        print('After update ', _ + 1, ': state = ', sess.run(state))    # 更新后"
   ]
  },
  {
   "cell_type": "markdown",
   "metadata": {},
   "source": [
    "### placeholder Tutorial"
   ]
  },
  {
   "cell_type": "markdown",
   "metadata": {},
   "source": [
    "#### 使用`placehodler`给tensor传入变量，应在tf.Session().run()中通过`feed_dict`传入，传入类型必须与placehodler中声明类型一致"
   ]
  },
  {
   "cell_type": "code",
   "execution_count": 32,
   "metadata": {},
   "outputs": [
    {
     "name": "stdout",
     "output_type": "stream",
     "text": [
      "56.0\n"
     ]
    }
   ],
   "source": [
    "input1 = tf.placeholder(tf.float32)\n",
    "input2 = tf.placeholder(tf.float32)\n",
    "\n",
    "output = tf.multiply(input1, input2)\n",
    "with tf.Session() as sess:\n",
    "    print(sess.run(output, feed_dict={input1: 7., input2: 8.}))"
   ]
  },
  {
   "cell_type": "markdown",
   "metadata": {},
   "source": [
    "### Nerual Network"
   ]
  },
  {
   "cell_type": "code",
   "execution_count": 60,
   "metadata": {},
   "outputs": [
    {
     "data": {
      "image/png": "[encoded data removed]",
      "text/plain": [
       "<matplotlib.figure.Figure at 0x7f12abfcca90>"
      ]
     },
     "metadata": {},
     "output_type": "display_data"
    }
   ],
   "source": [
    "import numpy as np\n",
    "import matplotlib.pyplot as plt\n",
    "# 定义一个神经层\n",
    "def add_layer(inputs, in_size, out_size, activation_function=None):\n",
    "    # random_normal初始化的值服从正态分布\n",
    "    Weights = tf.Variable(tf.random_normal([in_size, out_size]))\n",
    "    biases = tf.Variable(tf.zeros([1, out_size]) + 0.1)\n",
    "    Wx_plus_b = tf.matmul(inputs, Weights) + biases\n",
    "    if activation_function is None:\n",
    "        outputs = Wx_plus_b\n",
    "    else:\n",
    "        outputs = activation_function(Wx_plus_b)\n",
    "    return outputs\n",
    "    \n",
    "# 自己生成数据\n",
    "# numpy.linspace在指定的间隔内返回均匀间隔的数字\n",
    "x_data = np.linspace(-1, 1, 300)[:, np.newaxis]\n",
    "noise = np.random.normal(0, 0.05, x_data.shape)\n",
    "y_data = np.square(x_data) - 0.5 + noise\n",
    "\n",
    "xs = tf.placeholder(tf.float32, [None, 1])\n",
    "ys = tf.placeholder(tf.float32, [None, 1])\n",
    "\n",
    "layer_1 = add_layer(xs, 1, 10, activation_function=tf.nn.relu)\n",
    "prediction = add_layer(layer_1, 10, 1, activation_function=None)\n",
    "\n",
    "# tf.reduce_sum中的axis参数,传入的是求和的维度,如果为0则为第一维度求和(去掉1层[]求和),如果为1则为第二维度求和(去掉2层[]求和),如果为None则将所有元素求和\n",
    "loss = tf.reduce_mean(tf.reduce_sum(tf.square(ys - prediction), axis=1))\n",
    "train_step = tf.train.GradientDescentOptimizer(0.1).minimize(loss)\n",
    "\n",
    "init = tf.global_variables_initializer()\n",
    "with tf.Session() as sess:\n",
    "    sess.run(init)\n",
    "    \n",
    "    # 绘制样本\n",
    "    fig = plt.figure()\n",
    "    ax = fig.add_subplot(1, 1, 1)\n",
    "    ax.scatter(x_data, y_data)\n",
    "    plt.ion()\n",
    "    plt.show()\n",
    "    \n",
    "    for i in range(1000):\n",
    "        sess.run(train_step, feed_dict={xs: x_data, ys: y_data})\n",
    "#         测试axis\n",
    "#         if(i == 0):\n",
    "#             print('axis=0: ', sess.run(tf.reduce_sum(tf.square(ys - prediction), axis=0), feed_dict={xs: x_data, ys: y_data}))\n",
    "#             print('axis=1: ', sess.run(tf.reduce_sum(tf.square(ys - prediction), axis=1), feed_dict={xs: x_data, ys: y_data}))\n",
    "#             print('axis=None: ', sess.run(tf.reduce_sum(tf.square(ys - prediction), axis=None), feed_dict={xs: x_data, ys: y_data}))\n",
    "        if(i % 50 == 0):\n",
    "#             print('loss: ', sess.run(loss, feed_dict={xs: x_data, ys: y_data}))\n",
    "            # 在jupyter notebook中不能实现动态图像,需要在shell中运行\n",
    "            try:\n",
    "                ax.lines.remove(lines[0])\n",
    "            except Exception:\n",
    "                pass\n",
    "            prediction_value = sess.run(prediction, feed_dict={xs: x_data})\n",
    "            lines = ax.plot(x_data, prediction_value, 'r-', lw=5)\n",
    "            plt.pause(0.1)"
   ]
  },
  {
   "cell_type": "code",
   "execution_count": null,
   "metadata": {
    "collapsed": true
   },
   "outputs": [],
   "source": []
  }
 ],
 "metadata": {
  "kernelspec": {
   "display_name": "Python 3",
   "language": "python",
   "name": "python3"
  },
  "language_info": {
   "codemirror_mode": {
    "name": "ipython",
    "version": 3
   },
   "file_extension": ".py",
   "mimetype": "text/x-python",
   "name": "python",
   "nbconvert_exporter": "python",
   "pygments_lexer": "ipython3",
   "version": "3.6.1"
  }
 },
 "nbformat": 4,
 "nbformat_minor": 2
}
