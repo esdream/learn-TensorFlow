{
 "cells": [
  {
   "cell_type": "code",
   "execution_count": 3,
   "metadata": {
    "scrolled": false
   },
   "outputs": [
    {
     "name": "stdout",
     "output_type": "stream",
     "text": [
      "Extracting MNIST_data\\train-images-idx3-ubyte.gz\n",
      "Extracting MNIST_data\\train-labels-idx1-ubyte.gz\n",
      "Extracting MNIST_data\\t10k-images-idx3-ubyte.gz\n",
      "Extracting MNIST_data\\t10k-labels-idx1-ubyte.gz\n"
     ]
    }
   ],
   "source": [
    "import tensorflow as tf\n",
    "from tensorflow.examples.tutorials.mnist import input_data\n",
    "\n",
    "tf.set_random_seed(1)\n",
    "\n",
    "mnist = input_data.read_data_sets('MNIST_data', one_hot=True)"
   ]
  },
  {
   "cell_type": "code",
   "execution_count": 4,
   "metadata": {
    "collapsed": true
   },
   "outputs": [],
   "source": [
    "# hyperparameters\n",
    "lr = 0.001\n",
    "training_iters = 100000\n",
    "batch_size = 128 \n",
    "\n",
    "n_inputs = 28 # 每一次input一行pixel,即n_inputs = 28\n",
    "n_steps = 28 # 一共28列,因此n_steps = 28\n",
    "n_hidden_units = 128 # neurons in hidden layer\n",
    "n_classes = 10"
   ]
  },
  {
   "cell_type": "code",
   "execution_count": 5,
   "metadata": {},
   "outputs": [],
   "source": [
    "# tf Graph input\n",
    "x = tf.placeholder(tf.float32, [None, n_steps, n_inputs])\n",
    "y = tf.placeholder(tf.float32, [None, n_classes])"
   ]
  },
  {
   "cell_type": "code",
   "execution_count": 6,
   "metadata": {},
   "outputs": [],
   "source": [
    "# Define weights and biases\n",
    "weights = {\n",
    "    # (28, 128)\n",
    "    'in': tf.Variable(tf.random_normal([n_inputs, n_hidden_units])),\n",
    "    # (128, 10)\n",
    "    'out': tf.Variable(tf.random_normal([n_hidden_units, n_classes]))\n",
    "}\n",
    "biases = {\n",
    "    'in': tf.Variable(tf.constant(0.1, shape=[n_hidden_units, ])),\n",
    "    'out': tf.Variable(tf.constant(0.1, shape=[n_classes, ]))\n",
    "}"
   ]
  },
  {
   "cell_type": "code",
   "execution_count": 10,
   "metadata": {
    "collapsed": true
   },
   "outputs": [],
   "source": [
    "def RNN(X, weights, biases):\n",
    "    # hidden layer for input to cell\n",
    "    # X(128 batch, 28 steps, 28 inputs) ==> X(128 * 28, 28 inputs)\n",
    "    # 将X展成一个长度为28的向量,一共128 * 28个(reshape中第一个参数为-1,表示个数由总数除以shape得到)\n",
    "    X = tf.reshape(X, [-1, n_inputs])\n",
    "    # X_in : (128 batch * 28 steps, 128 hidden)\n",
    "    X_in = tf.matmul(X, weights['in']) + biases['in']\n",
    "    # X_in ==> (128 batch, 28 steps, 128 hidden)\n",
    "    X_in = tf.reshape(X_in, [-1, n_steps, n_hidden_units])\n",
    "    \n",
    "   \n",
    "    with tf.variable_scope('lstm', reuse=None):\n",
    "         # LSTM cell\n",
    "        # 在旧版本中lstm_cell = tf.nn.rnn_cell_BasicLSTMCell(n_hidden_units, forget_bias=1.0, state_is_tupe=True)\n",
    "        # 其中forget_bias表示遗忘系数，等于1时不会遗忘任何信息。\n",
    "        # state_is_tuple默认为True，官方建议为True。lstm cell会范围2个元素的元组(c_state, m_state)。\n",
    "        # 其中c_state是主线state，m_state是分线state。这个属性马上将被启用，即只返回Tuple.\n",
    "        cell = tf.contrib.rnn.BasicLSTMCell(n_hidden_units)\n",
    "        init_state = cell.zero_state(batch_size, dtype=tf.float32)\n",
    "        \n",
    "        # output cell\n",
    "        # dynamic RNN比传统RNN具有更好的效果\n",
    "        # 其中time_major参数是inputs和outputs Tensor的形式。为True时，\n",
    "        # Tensor的格式为[max_time, batch_size, depth]，为False时格式为\n",
    "        #[batch_size, max_time, depth]。其中max_time是RNN的循环次数。\n",
    "        # 官方文档上说time_major=True在计算时会更有效率因为避免了在\n",
    "        # RNN开始和结束时的转置。但绝大部分Tensorflow数据是batch-major的。\n",
    "        outputs, final_state = tf.nn.dynamic_rnn(cell, X_in, initial_state=init_state, time_major=False)\n",
    "        \n",
    "        # 将outputs维度进行变换，[0, 1, 2]转化为[1, 0, 2]\n",
    "        outputs = tf.unstack(tf.transpose(outputs, [1, 0, 2]))\n",
    "        # hidden layer for output as the final results\n",
    "        # shape = (128, 10)\n",
    "        # outputs[-1] = final_state[1] = c_state，也就是分线记忆输出。注意一下其他案例可能等式不成立。\n",
    "        results = tf.matmul(outputs[-1], weights['out']) + biases['out']\n",
    "    \n",
    "        return results"
   ]
  },
  {
   "cell_type": "code",
   "execution_count": 11,
   "metadata": {},
   "outputs": [],
   "source": [
    "pred = RNN(x, weights, biases)\n",
    "cost = tf.reduce_mean(tf.nn.softmax_cross_entropy_with_logits(logits=pred, labels=y))\n",
    "train_op = tf.train.AdamOptimizer(lr).minimize(cost)\n",
    "\n",
    "# tf.argmax此函数对矩阵按行或列计算最大值，0表示列，1表示行\n",
    "correct_pred = tf.equal(tf.argmax(pred, 1), tf.argmax(y, 1))\n",
    "# tf.cast()将矩阵元素转换成需要的类型\n",
    "accuracy = tf.reduce_mean(tf.cast(correct_pred, tf.float32))"
   ]
  },
  {
   "cell_type": "code",
   "execution_count": null,
   "metadata": {
    "collapsed": true
   },
   "outputs": [],
   "source": []
  }
 ],
 "metadata": {
  "kernelspec": {
   "display_name": "Python 3",
   "language": "python",
   "name": "python3"
  },
  "language_info": {
   "codemirror_mode": {
    "name": "ipython",
    "version": 3
   },
   "file_extension": ".py",
   "mimetype": "text/x-python",
   "name": "python",
   "nbconvert_exporter": "python",
   "pygments_lexer": "ipython3",
   "version": "3.6.1"
  }
 },
 "nbformat": 4,
 "nbformat_minor": 2
}
