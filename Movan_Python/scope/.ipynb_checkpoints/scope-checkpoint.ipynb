{
 "cells": [
  {
   "cell_type": "code",
   "execution_count": 6,
   "metadata": {
    "collapsed": true
   },
   "outputs": [],
   "source": [
    "import tensorflow as tf"
   ]
  },
  {
   "cell_type": "code",
   "execution_count": 12,
   "metadata": {},
   "outputs": [
    {
     "name": "stdout",
     "output_type": "stream",
     "text": [
      "var1:0\n",
      "[ 1.]\n",
      "a_name_scope/var2:0\n",
      "[ 2.]\n",
      "a_name_scope/var2_1:0\n",
      "[ 2.0999999]\n",
      "a_name_scope/var2_2:0\n",
      "[ 2.20000005]\n"
     ]
    }
   ],
   "source": [
    "# 当使用jupyter notebook时，如果要重复地创建同一名称的图层，就会导致error。最好的方法是在这一代码块的开头插入tf.reset_default_graph()，就可以重置graph\n",
    "tf.reset_default_graph()\n",
    "\n",
    "with tf.name_scope(\"a_name_scope\"):\n",
    "    initializer = tf.constant_initializer(value=1)\n",
    "    # 使用get_variable方法创建的变量，不受name_scope影响\n",
    "    var1 = tf.get_variable(name='var1', shape=[1], dtype=tf.float32, initializer=initializer)\n",
    "    # 使用Variable方法创建的变量，会成为name_scope名字空间下的变量\n",
    "    var2 = tf.Variable(name='var2', initial_value=[2], dtype=tf.float32)\n",
    "    # 当name重复时，会自动加上_num以区分\n",
    "    var21 = tf.Variable(name='var2', initial_value=[2.1], dtype=tf.float32)\n",
    "    var22 = tf.Variable(name='var2', initial_value=[2.2], dtype=tf.float32)\n",
    "\n",
    "with tf.Session() as sess:\n",
    "    sess.run(tf.global_variables_initializer())\n",
    "    print(var1.name)        # var1:0\n",
    "    print(sess.run(var1))   # [ 1.]\n",
    "    print(var2.name)        # a_name_scope/var2:0\n",
    "    print(sess.run(var2))   # [ 2.]\n",
    "    print(var21.name)       # a_name_scope/var2_1:0\n",
    "    print(sess.run(var21))  # [ 2.0999999]\n",
    "    print(var22.name)       # a_name_scope/var2_2:0\n",
    "    print(sess.run(var22))  # [ 2.20000005]"
   ]
  },
  {
   "cell_type": "code",
   "execution_count": 18,
   "metadata": {},
   "outputs": [
    {
     "name": "stdout",
     "output_type": "stream",
     "text": [
      "a_variable_scope/var3:0\n",
      "[ 3.]\n",
      "a_variable_scope/var4:0\n",
      "[ 4.]\n",
      "a_variable_scope/var4_1:0\n",
      "[ 4.]\n",
      "a_variable_scope/var3:0\n",
      "[ 3.]\n"
     ]
    }
   ],
   "source": [
    "tf.reset_default_graph()\n",
    "\n",
    "with tf.variable_scope('a_variable_scope') as scope:\n",
    "    initializer = tf.constant_initializer(value=3)\n",
    "    var3 = tf.get_variable(name='var3', shape=[1], dtype=tf.float32, initializer=initializer)\n",
    "    var4 = tf.Variable(name='var4', initial_value=[4], dtype=tf.float32)\n",
    "    var4_reuse = tf.Variable(name='var4', initial_value=[4], dtype=tf.float32)\n",
    "    # 想要重复利用某一个variable时，可以调用scope.resuse_variables()方法，之前的所有variable都会被重置。在RNN中会经常使用到\n",
    "    scope.reuse_variables()\n",
    "    var3_reuse = tf.get_variable(name='var3')\n",
    "    \n",
    "with tf.Session() as sess:\n",
    "    init = tf.global_variables_initializer()\n",
    "    sess.run(init)\n",
    "    print(var3.name) # a_variable_scope/var3:0\n",
    "    print(sess.run(var3)) # [ 3.]\n",
    "    print(var4.name) # a_variable_scope/var4:0\n",
    "    print(sess.run(var4)) # [ 4.]\n",
    "    print(var4_reuse.name) # a_variable_scope/var4_1:0\n",
    "    print(sess.run(var4_reuse)) # [ 4.]\n",
    "    print(var3_reuse.name) # a_variable_scope/var3:0\n",
    "    print(sess.run(var3_reuse)) # [ 3.]"
   ]
  }
 ],
 "metadata": {
  "kernelspec": {
   "display_name": "Python 3",
   "language": "python",
   "name": "python3"
  },
  "language_info": {
   "codemirror_mode": {
    "name": "ipython",
    "version": 3
   },
   "file_extension": ".py",
   "mimetype": "text/x-python",
   "name": "python",
   "nbconvert_exporter": "python",
   "pygments_lexer": "ipython3",
   "version": "3.6.1"
  }
 },
 "nbformat": 4,
 "nbformat_minor": 2
}
