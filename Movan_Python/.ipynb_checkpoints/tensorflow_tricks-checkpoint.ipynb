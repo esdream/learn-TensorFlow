{
 "cells": [
  {
   "cell_type": "code",
   "execution_count": 1,
   "metadata": {
    "collapsed": true
   },
   "outputs": [],
   "source": [
    "import tensorflow as tf"
   ]
  },
  {
   "cell_type": "markdown",
   "metadata": {},
   "source": [
    "## seed与tf.set_random_seed()\n",
    "一般情况下，使用`tf.random_uniform`等随机化Variable时，Tensorflow会在**每次run**的时候重新初始化。如下，不论是否是同一个Variable还是同一个Session中，都会重新初始化出新的数值。"
   ]
  },
  {
   "cell_type": "code",
   "execution_count": 4,
   "metadata": {},
   "outputs": [
    {
     "name": "stdout",
     "output_type": "stream",
     "text": [
      "Session 1\n",
      "[ 0.9220928]\n",
      "[ 0.85987198]\n",
      "[ 0.30894506]\n",
      "[ 0.07020054]\n",
      "Session 2\n",
      "[ 0.50597644]\n",
      "[ 0.71750867]\n",
      "[-1.04817414]\n",
      "[ 0.03224645]\n"
     ]
    }
   ],
   "source": [
    "a = tf.random_uniform([1])\n",
    "b = tf.random_normal([1])\n",
    "\n",
    "print('Session 1')\n",
    "with tf.Session() as sess1:\n",
    "    print(sess1.run(a))\n",
    "    print(sess1.run(a))\n",
    "    print(sess1.run(b))\n",
    "    print(sess1.run(b))\n",
    "\n",
    "print('Session 2')\n",
    "with tf.Session() as sess2:\n",
    "    print(sess2.run(a))\n",
    "    print(sess2.run(a))\n",
    "    print(sess2.run(b))\n",
    "    print(sess2.run(b))"
   ]
  },
  {
   "cell_type": "markdown",
   "metadata": {},
   "source": [
    "### 操作级seed\n",
    "为了能让多个变量共享同样的随机值，可以在定义变量的随机初始化时加入**`seed`**参数，seed是一个整数。加入`seed`参数的变量在不同Session中会产生相同的随机值。当然，在同一个Session中run两次，还是会产生不同的随机值。"
   ]
  },
  {
   "cell_type": "code",
   "execution_count": 5,
   "metadata": {},
   "outputs": [
    {
     "name": "stdout",
     "output_type": "stream",
     "text": [
      "Session 1\n",
      "[ 0.23903739]\n",
      "[ 0.22267115]\n",
      "[ 0.97934967]\n",
      "[-1.52125502]\n",
      "Session 2\n",
      "[ 0.23903739]\n",
      "[ 0.22267115]\n",
      "[ 2.01302814]\n",
      "[ 1.22843516]\n"
     ]
    }
   ],
   "source": [
    "a = tf.random_uniform([1], seed=1)\n",
    "b = tf.random_normal([1])\n",
    "\n",
    "print('Session 1')\n",
    "with tf.Session() as sess1:\n",
    "    print(sess1.run(a))\n",
    "    print(sess1.run(a))\n",
    "    print(sess1.run(b))\n",
    "    print(sess1.run(b))\n",
    "\n",
    "print('Session 2')\n",
    "with tf.Session() as sess2:\n",
    "    print(sess2.run(a))\n",
    "    print(sess2.run(a))\n",
    "    print(sess2.run(b))\n",
    "    print(sess2.run(b))"
   ]
  },
  {
   "cell_type": "markdown",
   "metadata": {},
   "source": [
    "### 图级seed\n",
    "要让该图内所有Session内的变量都共享随机值，可以使用`tf.set_random_seed(1)`。当然，同一个变量run两次还是会产生不同的随机值。"
   ]
  },
  {
   "cell_type": "code",
   "execution_count": 7,
   "metadata": {},
   "outputs": [
    {
     "name": "stdout",
     "output_type": "stream",
     "text": [
      "Session 1\n",
      "[ 0.21971714]\n",
      "[ 0.20717001]\n",
      "[-2.26985884]\n",
      "[ 0.35781705]\n",
      "Session 2\n",
      "[ 0.21971714]\n",
      "[ 0.20717001]\n",
      "[-2.26985884]\n",
      "[ 0.35781705]\n"
     ]
    }
   ],
   "source": [
    "tf.set_random_seed(1)\n",
    "a = tf.random_uniform([1])\n",
    "b = tf.random_normal([1])\n",
    "\n",
    "print('Session 1')\n",
    "with tf.Session() as sess1:\n",
    "    print(sess1.run(a))\n",
    "    print(sess1.run(a))\n",
    "    print(sess1.run(b))\n",
    "    print(sess1.run(b))\n",
    "\n",
    "print('Session 2')\n",
    "with tf.Session() as sess2:\n",
    "    print(sess2.run(a))\n",
    "    print(sess2.run(a))\n",
    "    print(sess2.run(b))\n",
    "    print(sess2.run(b))"
   ]
  }
 ],
 "metadata": {
  "kernelspec": {
   "display_name": "Python 3",
   "language": "python",
   "name": "python3"
  },
  "language_info": {
   "codemirror_mode": {
    "name": "ipython",
    "version": 3
   },
   "file_extension": ".py",
   "mimetype": "text/x-python",
   "name": "python",
   "nbconvert_exporter": "python",
   "pygments_lexer": "ipython3",
   "version": "3.6.1"
  }
 },
 "nbformat": 4,
 "nbformat_minor": 2
}
