{
 "cells": [
  {
   "cell_type": "markdown",
   "metadata": {
    "collapsed": true
   },
   "source": [
    "### Batch Normalization\n",
    "Build two networks\n",
    "1. Without batch normalization\n",
    "2. With batch normalization\n",
    "\n",
    "Run tests on these two networks."
   ]
  },
  {
   "cell_type": "code",
   "execution_count": 3,
   "metadata": {
    "collapsed": true
   },
   "outputs": [],
   "source": [
    "import numpy as np\n",
    "import tensorflow as tf\n",
    "import matplotlib.pyplot as plt\n",
    "\n",
    "%matplotlib inline"
   ]
  },
  {
   "cell_type": "code",
   "execution_count": 4,
   "metadata": {
    "collapsed": true
   },
   "outputs": [],
   "source": [
    "ACTIVATION = tf.nn.relu\n",
    "N_LAYERS = 7\n",
    "N_HIDDEN_UNITS = 30"
   ]
  },
  {
   "cell_type": "code",
   "execution_count": 5,
   "metadata": {
    "collapsed": true
   },
   "outputs": [],
   "source": [
    "def fix_seed(seed=1):\n",
    "    # reproducible\n",
    "    np.random.seed(seed)\n",
    "    tf.set_random_seed(seed)\n",
    "    \n",
    "def plot_his(inputs, inputs_norm):\n",
    "    # plot histogram for the inputs of every layer\n",
    "    for j, all_inputs in enumerate([inputs, inputs_norm]):\n",
    "        for i, input_item in enumerate(all_inputs):\n",
    "            plt.subplot(2, len(all_inputs), j*len(all_inputs)+(i+1))\n",
    "            # 清除子图\n",
    "            plt.cla()\n",
    "            if(i == 0):\n",
    "                the_range = (-7, 10)\n",
    "            else:\n",
    "                the_range = (-1, 1)\n",
    "            # ravel()方法会将多为数组降为一维，且返回的是视图（view）会影响原始矩阵\n",
    "            # hist绘图函数中,bins是直方的宽度\n",
    "            plt.hist(input_item.ravel(), bins=15, range=the_range, color='#FF5733')\n",
    "            # xticks, yticks是刻度\n",
    "            plt.yticks(())\n",
    "            if(j == 1):\n",
    "                plt.xticks(the_range)\n",
    "            else:\n",
    "                plt.xticks(())\n",
    "            # gca()获得子图对象\n",
    "            ax = plt.gca()\n",
    "            ax.spines['right'].set_color('none')\n",
    "            ax.spines['top'].set_color('none')\n",
    "        plt.title('%s normalizing' %('Without' if j == 0 else 'With'))\n",
    "    plt.draw()\n",
    "    # pause后保持绘图而且鼠标可以和图交互（jupyter里不能交互）\n",
    "    plt.pause(0.01)"
   ]
  },
  {
   "cell_type": "code",
   "execution_count": 6,
   "metadata": {
    "collapsed": true
   },
   "outputs": [],
   "source": [
    "def built_net(xs, ys, norm):\n",
    "    def add_layer(inputs, in_size, out_size, activation_function=None, norm=False):\n",
    "        # weights and biases (bad initialization for the this case)\n",
    "        Weights = tf.Variable(tf.random_normal([in_size, out_size], mean=0., stddev=1.))\n",
    "        biases = tf.Variable(tf.zeros[1, out_size] + 0.1)\n",
    "        \n",
    "        # fully connected product\n",
    "        Wx_plus_b = tf.matmul(inputs, Weights) + biases\n",
    "        \n",
    "        # normalize fully connected product\n",
    "        if norm:\n",
    "            # Batch Normalize\n",
    "            # tf.nn.moments 矩\n",
    "            # 第一个参数是输入的数据，形如[batchsize, height, width, kernels]\n",
    "            # axes表示在哪个维度上求解，是一个list，例如[0, 1, 2]\n",
    "            # 返回的mean表示一阶矩，var则是二阶中心矩\n",
    "            fc_mean, fc_var = tf.nn.moments(Wx_plus_b, axes=[0])\n",
    "            scale = tf.Variable(tf.ones([out_size]))\n",
    "            shift = tf.Variable(tf.zeros([out_size]))\n",
    "            epsilon = 0.001\n",
    "            \n",
    "            # apply moving average for mean and var when train on batch\n",
    "            # 为什么要求滑动平均（moving average）？\n",
    "            # ExponentialMovingAverage(decay, steps)采用滑动平均的方法更新参数，这个参数初始化需要提供一个衰减速率（decay），用于控制模型的更新速度。这个函数还会维护一个影子变量（也就是更新参数后的参数值），这个影子变量的初始值就是这个变量的初始值\n",
    "            ema = tf.train.ExponentialMovingAverage(decay=0.5)\n",
    "            def mean_var_with_update():\n",
    "                ema_apply_op = ema.apply([fc_mean, fc_var])\n",
    "                # control_dependencies()设计是用来控制计算流图的，给图中某些计算指定顺序。比如这里的含义是，在执行tf.identity之前，先执行ema_apply_op的内容\n",
    "                with tf.control_dependencies([ema_apply_op]):\n",
    "                    return tf.identity(fc_mean), tf.identity(fc_var)\n",
    "            mean, var = mean_var_with_update()\n",
    "            \n",
    "            Wx_plus_b = tf.nn.batch_normalization(Wx_plus_b, mean, var, shift, scale, epsilon)\n",
    "            \n",
    "        # activation\n",
    "        if(activation_function is None):\n",
    "            outputs = Wx_plus_b\n",
    "        else:\n",
    "            outputs = activation_function(Wx_plus_b)\n",
    "        \n",
    "        return outputs\n",
    "    \n",
    "    fix_seed(1)\n",
    "    \n",
    "    if(norm):\n",
    "        # BN for the first input\n",
    "        fc_mean, fc_var = tf.nn.moments(xs, axes=[0])\n",
    "        scale = tf.Variable(tf.ones([1]))\n",
    "        shift = tf.Variable(tf.zeros([1]))\n",
    "        epsilon = 0.001\n",
    "        # apply moving average for mean and var when train on batch\n",
    "        ema = tf.train.ExponentialMovingAverage(decay=0.5)\n",
    "        def mean_var_with_update():\n",
    "            ema_apply_op = ema.apply([fc_mean, fc_var])\n",
    "            with tf.control_dependencies([ema_apply_op]):\n",
    "                return tf.identity(fc_mean), tf.identity(fc_var)\n",
    "            mean, var = mean_var_with_update()\n",
    "            xs = tf.nn.batch_normalization(xs, mean, var, shift, scale, epsilon)\n",
    "        # record inputs for every layer\n",
    "        layers_inputs = [xs]\n",
    "        \n",
    "        # build hidden layers\n",
    "        for l_n in range(N_LAYERS):\n",
    "            layer_input = layers_inputs[l_n]\n",
    "            in_size = layer_inputs[l_n].get_shape()[1].value\n",
    "            \n",
    "            outupt = add_layer(\n",
    "                layer_input, # input\n",
    "                in_size, # input size\n",
    "                N_HIDDEN_UNITS, # output size\n",
    "                ACTIVATION, # activation function\n",
    "                norm, # normalize before activation\n",
    "            )\n",
    "            layers_inputs.append(output) # add output for next run\n",
    "            \n",
    "        # build output layer\n",
    "        prediction = add_layer(layers_inputs[-1], 30, 1, activation_function=None)\n",
    "        \n",
    "        cost = tf.reduce_mean(tf.reduce_sum(tf.square(ys - prediction), reduction_indices=[1]))\n",
    "        train_op = tf.train.GradientDescentOptimizer(0.001).minimize(cost)\n",
    "        return [train_op, cost, layers_inputs]"
   ]
  },
  {
   "cell_type": "code",
   "execution_count": 8,
   "metadata": {},
   "outputs": [
    {
     "data": {
      "image/png": "[encoded data removed]",
      "text/plain": [
       "<matplotlib.figure.Figure at 0x1bb08d0ef60>"
      ]
     },
     "metadata": {},
     "output_type": "display_data"
    }
   ],
   "source": [
    "# make up data\n",
    "fix_seed(1)\n",
    "x_data = np.linspace(-7, 10, 500)[:, np.newaxis]\n",
    "np.random.shuffle(x_data)\n",
    "noise = np.random.normal(0, 8, x_data.shape)\n",
    "y_data = np.square(x_data) - 5 + noise\n",
    "\n",
    "# plot input data\n",
    "plt.scatter(x_data, y_data)\n",
    "plt.show()"
   ]
  },
  {
   "cell_type": "code",
   "execution_count": 9,
   "metadata": {},
   "outputs": [
    {
     "ename": "SyntaxError",
     "evalue": "unexpected EOF while parsing (<ipython-input-9-4237342dfef2>, line 20)",
     "output_type": "error",
     "traceback": [
      "\u001b[1;36m  File \u001b[1;32m\"<ipython-input-9-4237342dfef2>\"\u001b[1;36m, line \u001b[1;32m20\u001b[0m\n\u001b[1;33m    # plot histogram\u001b[0m\n\u001b[1;37m                    ^\u001b[0m\n\u001b[1;31mSyntaxError\u001b[0m\u001b[1;31m:\u001b[0m unexpected EOF while parsing\n"
     ]
    }
   ],
   "source": [
    "xs = tf.placeholder(tf.float32, [None, 1]) # [num_samples, num_features]\n",
    "ys = tf.placeholder(tf.float32, [None, 1])\n",
    "\n",
    "train_op, cost, layers_inputs = built_net(xs, ys, norm=False) # without BN\n",
    "train_op_norm, cost_norm, layers_input_norm = built_net(xs, ys, norm=True) # with BN\n",
    "\n",
    "with tf.Session() as sess:\n",
    "    init = tf.global_variables_initializer()\n",
    "    sess.run(init)\n",
    "    \n",
    "    # record cost\n",
    "    cost_his = []\n",
    "    cost_his_norm = []\n",
    "    record_step = 5\n",
    "    \n",
    "    plt.ion()\n",
    "    plt.figure(figsize=(7, 3))\n",
    "    for i in range(250):\n",
    "        if(i % 50 == 0):\n",
    "            # plot histogram\n",
    "            all_inputs, all_inputs_norm = sess.run([layers_inputs, layers_input_norm], feed_dict={xs: x_data, ys: y_data})\n",
    "            plot_his(all_inputs, all_inputs_norm)\n",
    "        \n",
    "        # train on batch\n",
    "        sess.run([train_op, train_op_norm], feed_dict={xs: x_data[i*10:i*10+10], ys: y_data[i*10:i*10+10]})\n",
    "        \n",
    "        if(i % record_step == 0):\n",
    "            # record cost\n",
    "            cost_his.append(sess.run(cost, feed_dict={xs: x_data, ys: y_data}))\n",
    "            cost_his_norm.append(sess.run(cost_norm, feed_dict={xs: x_data, y_data}))\n",
    "\n",
    "    plt.ioff()\n",
    "    plt.figure()\n",
    "    plt.plot(np.arange(len(cost_his))*record_step, np.array(cost_his), label='no BN')\n",
    "    plt.plot(np.arange(len(cost_his))*record_step, np.array(cost_his_norm), label='BN')\n",
    "    plt.legend()\n",
    "    plt.show()"
   ]
  },
  {
   "cell_type": "code",
   "execution_count": null,
   "metadata": {
    "collapsed": true
   },
   "outputs": [],
   "source": []
  }
 ],
 "metadata": {
  "kernelspec": {
   "display_name": "Python 3",
   "language": "python",
   "name": "python3"
  },
  "language_info": {
   "codemirror_mode": {
    "name": "ipython",
    "version": 3
   },
   "file_extension": ".py",
   "mimetype": "text/x-python",
   "name": "python",
   "nbconvert_exporter": "python",
   "pygments_lexer": "ipython3",
   "version": "3.6.1"
  }
 },
 "nbformat": 4,
 "nbformat_minor": 2
}
