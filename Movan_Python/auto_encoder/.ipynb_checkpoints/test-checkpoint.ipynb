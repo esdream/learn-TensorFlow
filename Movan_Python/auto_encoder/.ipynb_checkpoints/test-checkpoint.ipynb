{
 "cells": [
  {
   "cell_type": "code",
   "execution_count": 1,
   "metadata": {
    "collapsed": true
   },
   "outputs": [],
   "source": [
    "import tensorflow as tf"
   ]
  },
  {
   "cell_type": "code",
   "execution_count": 7,
   "metadata": {},
   "outputs": [
    {
     "name": "stdout",
     "output_type": "stream",
     "text": [
      "WARNING:tensorflow:From E:\\Anaconda\\lib\\site-packages\\tensorflow\\python\\util\\tf_should_use.py:170: initialize_local_variables (from tensorflow.python.ops.variables) is deprecated and will be removed after 2017-03-02.\n",
      "Instructions for updating:\n",
      "Use `tf.local_variables_initializer` instead.\n",
      "ERROR:tensorflow:==================================\n",
      "Object was never used (type <class 'tensorflow.python.framework.ops.Operation'>):\n",
      "<tf.Operation 'init_1' type=NoOp>\n",
      "If you want to mark it as used call its \"mark_used()\" method.\n",
      "It was originally created here:\n",
      "['File \"E:\\\\Anaconda\\\\lib\\\\runpy.py\", line 193, in _run_module_as_main\\n    \"__main__\", mod_spec)', 'File \"E:\\\\Anaconda\\\\lib\\\\runpy.py\", line 85, in _run_code\\n    exec(code, run_globals)', 'File \"E:\\\\Anaconda\\\\lib\\\\site-packages\\\\ipykernel_launcher.py\", line 16, in <module>\\n    app.launch_new_instance()', 'File \"E:\\\\Anaconda\\\\lib\\\\site-packages\\\\traitlets\\\\config\\\\application.py\", line 658, in launch_instance\\n    app.start()', 'File \"E:\\\\Anaconda\\\\lib\\\\site-packages\\\\ipykernel\\\\kernelapp.py\", line 477, in start\\n    ioloop.IOLoop.instance().start()', 'File \"E:\\\\Anaconda\\\\lib\\\\site-packages\\\\zmq\\\\eventloop\\\\ioloop.py\", line 177, in start\\n    super(ZMQIOLoop, self).start()', 'File \"E:\\\\Anaconda\\\\lib\\\\site-packages\\\\tornado\\\\ioloop.py\", line 888, in start\\n    handler_func(fd_obj, events)', 'File \"E:\\\\Anaconda\\\\lib\\\\site-packages\\\\tornado\\\\stack_context.py\", line 277, in null_wrapper\\n    return fn(*args, **kwargs)', 'File \"E:\\\\Anaconda\\\\lib\\\\site-packages\\\\zmq\\\\eventloop\\\\zmqstream.py\", line 440, in _handle_events\\n    self._handle_recv()', 'File \"E:\\\\Anaconda\\\\lib\\\\site-packages\\\\zmq\\\\eventloop\\\\zmqstream.py\", line 472, in _handle_recv\\n    self._run_callback(callback, msg)', 'File \"E:\\\\Anaconda\\\\lib\\\\site-packages\\\\zmq\\\\eventloop\\\\zmqstream.py\", line 414, in _run_callback\\n    callback(*args, **kwargs)', 'File \"E:\\\\Anaconda\\\\lib\\\\site-packages\\\\tornado\\\\stack_context.py\", line 277, in null_wrapper\\n    return fn(*args, **kwargs)', 'File \"E:\\\\Anaconda\\\\lib\\\\site-packages\\\\ipykernel\\\\kernelbase.py\", line 283, in dispatcher\\n    return self.dispatch_shell(stream, msg)', 'File \"E:\\\\Anaconda\\\\lib\\\\site-packages\\\\ipykernel\\\\kernelbase.py\", line 235, in dispatch_shell\\n    handler(stream, idents, msg)', 'File \"E:\\\\Anaconda\\\\lib\\\\site-packages\\\\ipykernel\\\\kernelbase.py\", line 399, in execute_request\\n    user_expressions, allow_stdin)', 'File \"E:\\\\Anaconda\\\\lib\\\\site-packages\\\\ipykernel\\\\ipkernel.py\", line 196, in do_execute\\n    res = shell.run_cell(code, store_history=store_history, silent=silent)', 'File \"E:\\\\Anaconda\\\\lib\\\\site-packages\\\\ipykernel\\\\zmqshell.py\", line 533, in run_cell\\n    return super(ZMQInteractiveShell, self).run_cell(*args, **kwargs)', 'File \"E:\\\\Anaconda\\\\lib\\\\site-packages\\\\IPython\\\\core\\\\interactiveshell.py\", line 2728, in run_cell\\n    interactivity=interactivity, compiler=compiler, result=result)', 'File \"E:\\\\Anaconda\\\\lib\\\\site-packages\\\\IPython\\\\core\\\\interactiveshell.py\", line 2850, in run_ast_nodes\\n    if self.run_code(code, result):', 'File \"E:\\\\Anaconda\\\\lib\\\\site-packages\\\\IPython\\\\core\\\\interactiveshell.py\", line 2910, in run_code\\n    exec(code_obj, self.user_global_ns, self.user_ns)', 'File \"<ipython-input-7-21f9c23d56b8>\", line 3, in <module>\\n    tf.initialize_local_variables()', 'File \"E:\\\\Anaconda\\\\lib\\\\site-packages\\\\tensorflow\\\\python\\\\util\\\\tf_should_use.py\", line 170, in wrapped\\n    return _add_should_use_warning(fn(*args, **kwargs))', 'File \"E:\\\\Anaconda\\\\lib\\\\site-packages\\\\tensorflow\\\\python\\\\util\\\\tf_should_use.py\", line 139, in _add_should_use_warning\\n    wrapped = TFShouldUseWarningWrapper(x)', 'File \"E:\\\\Anaconda\\\\lib\\\\site-packages\\\\tensorflow\\\\python\\\\util\\\\tf_should_use.py\", line 96, in __init__\\n    stack = [s.strip() for s in traceback.format_stack()]']\n",
      "==================================\n",
      "1.5\n"
     ]
    }
   ],
   "source": [
    "x = tf.constant([[1., 1.], [2., 2.]])\n",
    "with tf.Session() as sess:\n",
    "    tf.global_variables_initializer()\n",
    "    rd_x = tf.reduce_mean(x)\n",
    "    print(sess.run(rd_x))"
   ]
  }
 ],
 "metadata": {
  "kernelspec": {
   "display_name": "Python 3",
   "language": "python",
   "name": "python3"
  },
  "language_info": {
   "codemirror_mode": {
    "name": "ipython",
    "version": 3
   },
   "file_extension": ".py",
   "mimetype": "text/x-python",
   "name": "python",
   "nbconvert_exporter": "python",
   "pygments_lexer": "ipython3",
   "version": "3.6.1"
  }
 },
 "nbformat": 4,
 "nbformat_minor": 2
}
