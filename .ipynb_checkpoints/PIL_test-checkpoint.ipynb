{
 "cells": [
  {
   "cell_type": "code",
   "execution_count": 11,
   "metadata": {
    "collapsed": true
   },
   "outputs": [],
   "source": [
    "import os\n",
    "from PIL import Image"
   ]
  },
  {
   "cell_type": "code",
   "execution_count": 21,
   "metadata": {},
   "outputs": [],
   "source": [
    "def split_green_band(classes_path):\n",
    "    for img_dir in os.listdir(classes_path):\n",
    "        if(os.path.isdir(img_dir)):\n",
    "            for img_name in os.listdir(img_dir):\n",
    "                img_path = os.path.join(img_dir, img_name)\n",
    "                img = Image.open(img_path).resize((128, 128))\n",
    "                r, g, b = img.split()\n",
    "                g.save(os.path.join(img_dir, '{}.jpg'.format(img_name)))\n",
    "# img = Image.open('s2.jpg')\n",
    "# img = img.resize((128, 128))\n",
    "# 分离三个通道\n",
    "# r, g, b = img.split()\n",
    "# 保存特征最明显的绿色通道\n",
    "# g_out = g.save('./g_out.jpg')"
   ]
  },
  {
   "cell_type": "code",
   "execution_count": 22,
   "metadata": {},
   "outputs": [
    {
     "name": "stdout",
     "output_type": "stream",
     "text": [
      ".git\\config\n",
      ".git\\description\n",
      ".git\\FETCH_HEAD\n",
      ".git\\HEAD\n",
      ".git\\hooks\n",
      ".git\\index\n",
      ".git\\info\n",
      ".git\\logs\n",
      ".git\\objects\n",
      ".git\\packed-refs\n",
      ".git\\refs\n",
      ".ipynb_checkpoints\\learn_tensorflow-checkpoint.ipynb\n",
      ".ipynb_checkpoints\\PIL_test-checkpoint.ipynb\n",
      ".ipynb_checkpoints\\tfrecord_file-checkpoint.ipynb\n",
      "face_data\\face_train.tfrecords\n",
      "face_data\\healthy\n",
      "face_data\\ill\n",
      "face_data\\s2.jpg\n",
      "face_sample\\rgb.py\n",
      "face_sample\\sensitive\n",
      "Movan_Python\\.ipynb_checkpoints\n",
      "Movan_Python\\Classification.ipynb\n",
      "Movan_Python\\convolution_neural_network.ipynb\n",
      "Movan_Python\\fix_overfitting.ipynb\n",
      "Movan_Python\\logs\n",
      "Movan_Python\\MNIST_data\n",
      "Movan_Python\\MOVAN_TensorFlow_tutorial-checkpoint.ipynb\n",
      "Movan_Python\\my_net\n",
      "Movan_Python\\neural_network.py\n",
      "Movan_Python\\recurrent_neural_network.ipynb\n",
      "Movan_Python\\save_neural_network.ipynb\n"
     ]
    }
   ],
   "source": [
    "split_green_band('.')"
   ]
  },
  {
   "cell_type": "code",
   "execution_count": null,
   "metadata": {
    "collapsed": true
   },
   "outputs": [],
   "source": []
  }
 ],
 "metadata": {
  "kernelspec": {
   "display_name": "Python 3",
   "language": "python",
   "name": "python3"
  },
  "language_info": {
   "codemirror_mode": {
    "name": "ipython",
    "version": 3
   },
   "file_extension": ".py",
   "mimetype": "text/x-python",
   "name": "python",
   "nbconvert_exporter": "python",
   "pygments_lexer": "ipython3",
   "version": "3.6.1"
  }
 },
 "nbformat": 4,
 "nbformat_minor": 2
}
