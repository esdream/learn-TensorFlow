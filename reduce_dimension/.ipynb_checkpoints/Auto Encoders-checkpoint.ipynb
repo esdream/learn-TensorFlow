{
 "cells": [
  {
   "cell_type": "code",
   "execution_count": null,
   "metadata": {
    "collapsed": true
   },
   "outputs": [],
   "source": [
    "def fit(self, n_dimensions):\n",
    "    graph = tf.Graph()\n",
    "    with graph.as_default():\n",
    "        \n",
    "        # Input variable\n",
    "        X = tf.placeholder(self.dtype, shape=(None, self.features.shape[1]))\n",
    "        \n",
    "        # Network variables\n",
    "        encoder_weights = tf.Variable(tf.random_normal(shape=(self.features.shape[1], n_dimensions)))\n",
    "        encoder_bias = tf.Variable(tf.zero(shape=[n_dimensions]))\n",
    "        \n",
    "        decoder_weights = tf.Variable(tf.random_normal(shape=(n_dimensions, self.features.shape[1])))\n",
    "        decoder_bias = tf.Variable(tf.zeros(shape=[self.features.shape[1]]))\n",
    "        \n",
    "        # Encoder part\n",
    "        encoding = tf.nn.sigmoid(tf.nn.sigmoid(tf.add(tf.matmul(X, encoding_weights))))\n",
    "        \n",
    "        # Decoder part\n",
    "        predicted_x = tf.nn.sigmoid(tf.add(tf.matmul(encoding, )))"
   ]
  }
 ],
 "metadata": {
  "kernelspec": {
   "display_name": "Python 3",
   "language": "python",
   "name": "python3"
  },
  "language_info": {
   "codemirror_mode": {
    "name": "ipython",
    "version": 3
   },
   "file_extension": ".py",
   "mimetype": "text/x-python",
   "name": "python",
   "nbconvert_exporter": "python",
   "pygments_lexer": "ipython3",
   "version": "3.6.1"
  }
 },
 "nbformat": 4,
 "nbformat_minor": 2
}
