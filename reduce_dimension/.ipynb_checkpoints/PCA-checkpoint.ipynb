{
 "cells": [
  {
   "cell_type": "code",
   "execution_count": 1,
   "metadata": {
    "collapsed": true
   },
   "outputs": [],
   "source": [
    "import numpy as np\n",
    "import tensorflow as tf\n",
    "from sklearn import datasets\n",
    "import matplotlib.pyplot as plt\n",
    "import seaborn as sns\n",
    "\n",
    "%matplotlib inline"
   ]
  },
  {
   "cell_type": "code",
   "execution_count": 2,
   "metadata": {
    "collapsed": true
   },
   "outputs": [],
   "source": [
    "iris_dataset = datasets.load_iris()"
   ]
  },
  {
   "cell_type": "markdown",
   "metadata": {},
   "source": [
    "### PCA\n",
    "\n",
    "![PCA](https://pic1.zhimg.com/v2-c6b93943b1620154d43f0a375f9e990a_r.jpg)"
   ]
  },
  {
   "cell_type": "markdown",
   "metadata": {},
   "source": [
    "PCA中$\\Sigma$是一个对角矩阵，其中有p(维度数)个对角值（被称为奇异值，singular value），它们的大小表明了它们对保存信息的**重要程度**。\n",
    "\n",
    "所以我们可以选择降维到能保留给定比例（这里reduce函数中的`keep_info`参数）的数据的维度数，后面我将通过代码说明。如果提供n_dimensions，它就会**降维到那个维数**；如果提供keep_info（0-1之间的一个浮点数），就说明从原来的数据中**保留多少信息**。"
   ]
  },
  {
   "cell_type": "code",
   "execution_count": 3,
   "metadata": {
    "collapsed": true
   },
   "outputs": [],
   "source": [
    "class TF_PCA:\n",
    "    \n",
    "    def __init__(self, data, target=None, dtype=tf.float32):\n",
    "        self.data = data\n",
    "        self.target = target\n",
    "        self.dtype = dtype\n",
    "        \n",
    "        self.graph = None\n",
    "        self.X = None\n",
    "        self.u = None\n",
    "        self.singular_values = None\n",
    "        self.sigma = None\n",
    "    \n",
    "    def fit(self):\n",
    "        self.graph = tf.Graph()\n",
    "        with self.graph.as_default():\n",
    "            self.X = tf.placeholder(self.dtype, shape=self.data.shape)\n",
    "\n",
    "            # Perform SVD\n",
    "            # tf.svd返回奇异值（singular_values），U和V。其中singular_values是一个向量，\n",
    "            # 需要用tf.diag恢复成对角矩阵\n",
    "            singular_values, u, _ = tf.svd(self.X)\n",
    "\n",
    "            # Create sigma matrix\n",
    "            # tf.diag根据对角向量获取一个对角矩阵\n",
    "            sigma = tf.diag(singular_values)\n",
    "\n",
    "        with tf.Session(graph=self.graph) as sess:\n",
    "            self.u, self.singular_values, self.sigma = sess.run([u, singular_values, sigma], feed_dict={self.X: self.data})\n",
    "    \n",
    "    def reduce(self, n_dimensions=None, keep_info=None):\n",
    "        if(keep_info):\n",
    "            # Normalize singular values\n",
    "            normalized_singular_values = self.singular_values / sum(self.singular_values)\n",
    "\n",
    "            # Create the aggregated ladder of kept information per dimension\n",
    "            # np.cumsum(a, axis=None)，元素累加，如果没有指定轴，则矩阵转为向量，逐\n",
    "            # 元素累加；axis=0，按行累加；axis=1，按列累加\n",
    "            ladder = np.cumsum(normalized_singular_values)\n",
    "\n",
    "            # Get the first index which is above the given information threshold\n",
    "            index = next(idx for idx, value in enumerate(ladder) if value >= keep_info) + 1\n",
    "            n_dimensions = index\n",
    "\n",
    "        with self.graph.as_default():\n",
    "            # Cut out the relevant part from sigma\n",
    "            sigma = tf.slice(self.sigma, [0, 0], [self.data.shape[1], n_dimensions])\n",
    "\n",
    "            # PCA\n",
    "            pca = tf.matmul(self.u, sigma)\n",
    "\n",
    "        with tf.Session(graph=self.graph) as sess:\n",
    "            return sess.run(pca, feed_dict={self.X: self.data})"
   ]
  },
  {
   "cell_type": "code",
   "execution_count": 4,
   "metadata": {},
   "outputs": [
    {
     "data": {
      "text/plain": [
       "<matplotlib.collections.PathCollection at 0x16218e8b080>"
      ]
     },
     "execution_count": 4,
     "metadata": {},
     "output_type": "execute_result"
    },
    {
     "data": {
      "image/png": "[encoded data removed]",
      "text/plain": [
       "<matplotlib.figure.Figure at 0x162140b8ef0>"
      ]
     },
     "metadata": {},
     "output_type": "display_data"
    }
   ],
   "source": [
    "tf_pca = TF_PCA(iris_dataset.data, iris_dataset.target)\n",
    "tf_pca.fit()\n",
    "pca = tf_pca.reduce(keep_info=0.9)\n",
    "\n",
    "color_mapping = {0: sns.xkcd_rgb['bright purple'], 1: sns.xkcd_rgb['lime'], 2: sns.xkcd_rgb['ochre']}\n",
    "colors = list(map(lambda x: color_mapping[x], tf_pca.target))\n",
    "\n",
    "plt.scatter(pca[:, 0], pca[:, 1], c=colors)"
   ]
  }
 ],
 "metadata": {
  "kernelspec": {
   "display_name": "Python 3",
   "language": "python",
   "name": "python3"
  },
  "language_info": {
   "codemirror_mode": {
    "name": "ipython",
    "version": 3
   },
   "file_extension": ".py",
   "mimetype": "text/x-python",
   "name": "python",
   "nbconvert_exporter": "python",
   "pygments_lexer": "ipython3",
   "version": "3.6.1"
  }
 },
 "nbformat": 4,
 "nbformat_minor": 2
}
