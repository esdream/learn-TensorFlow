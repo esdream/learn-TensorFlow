{
 "cells": [
  {
   "cell_type": "code",
   "execution_count": 1,
   "metadata": {
    "collapsed": true
   },
   "outputs": [],
   "source": [
    "import tensorflow as tf"
   ]
  },
  {
   "cell_type": "code",
   "execution_count": null,
   "metadata": {
    "collapsed": true
   },
   "outputs": [],
   "source": [
    "def fit(self):\n",
    "    self.graph = tf.Graph()\n",
    "    with self.graph.as_default():\n",
    "        self.X = tf.placeholder(self.dtype, shape=self.data.shape)\n",
    "        \n",
    "        # Perform SVD\n",
    "        singular_values, u, _ = tf.svd(self.X)\n",
    "        \n",
    "        # Create sigma matrix\n",
    "        sigma = tf.diag(singular_values)\n",
    "        \n",
    "    with tf.Session(graph=self.graph) as session:\n",
    "        self.u, self.singular_values, self.sigma = sess.run([u, singular_values, sigma], feed_dict={self.X: self.data})"
   ]
  }
 ],
 "metadata": {
  "kernelspec": {
   "display_name": "Python 3",
   "language": "python",
   "name": "python3"
  },
  "language_info": {
   "codemirror_mode": {
    "name": "ipython",
    "version": 3
   },
   "file_extension": ".py",
   "mimetype": "text/x-python",
   "name": "python",
   "nbconvert_exporter": "python",
   "pygments_lexer": "ipython3",
   "version": "3.6.1"
  }
 },
 "nbformat": 4,
 "nbformat_minor": 2
}
