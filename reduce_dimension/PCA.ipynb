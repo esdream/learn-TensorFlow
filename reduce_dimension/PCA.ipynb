{
 "cells": [
  {
   "cell_type": "code",
   "execution_count": 1,
   "metadata": {
    "collapsed": true
   },
   "outputs": [],
   "source": [
    "import tensorflow as tf\n",
    "from sklearn import datasets\n",
    "import matplotlib.pyplot as plt\n",
    "import seaborn as sns"
   ]
  },
  {
   "cell_type": "code",
   "execution_count": 1,
   "metadata": {
    "collapsed": true
   },
   "outputs": [],
   "source": [
    "def fit(self):\n",
    "    self.graph = tf.Graph()\n",
    "    with self.graph.as_default():\n",
    "        self.X = tf.placeholder(self.dtype, shape=self.data.shape)\n",
    "        \n",
    "        # Perform SVD\n",
    "        # tf.svd返回奇异值（singular_values），U和V。其中singular_values是一个向量，\n",
    "        # 需要用tf.diag恢复成对角矩阵\n",
    "        singular_values, u, _ = tf.svd(self.X)\n",
    "        \n",
    "        # Create sigma matrix\n",
    "        # tf.diag根据对角向量获取一个对角矩阵\n",
    "        sigma = tf.diag(singular_values)\n",
    "        \n",
    "    with tf.Session(graph=self.graph) as session:\n",
    "        self.u, self.singular_values, self.sigma = sess.run([u, singular_values, sigma], feed_dict={self.X: self.data})"
   ]
  },
  {
   "cell_type": "code",
   "execution_count": 3,
   "metadata": {
    "collapsed": true
   },
   "outputs": [],
   "source": [
    "def reduce(self, n_dimensions=None, keep_info=None):\n",
    "    if(keep_info):\n",
    "        # Normalize singular values\n",
    "        normalized_singular_values = self.singular_values / sum(self.singular_values)\n",
    "        \n",
    "        # Create the aggregated ladder of kept information per dimension\n",
    "        # np.cumsum(a, axis=None)，元素累加，如果没有指定轴，则矩阵转为向量，逐\n",
    "        # 元素累加；axis=0，按行累加；axis=1，按列累加\n",
    "        ladder = np.cumsum(normalized_singular_values)\n",
    "        \n",
    "        # Get the first index which is above the given information threshold\n",
    "        index = next(idx for idx, value in enumerate(ladder) if value >= keep_info) + 1\n",
    "        n_dimensions = index\n",
    "    \n",
    "    with self.graph.as_default():\n",
    "        # Cut out the relevant part from sigma\n",
    "        sigma = tf.slice(self.sigma, [0, 0], [self.data.shape[1], n_dimensions])\n",
    "\n",
    "        # PCA\n",
    "        pca = tf.matmul(self.u, sigma)\n",
    "\n",
    "    with tf.Session(graph=self.graph) as sess:\n",
    "        return sess.run(pca, feed_dict={self.X: self.data})"
   ]
  },
  {
   "cell_type": "code",
   "execution_count": null,
   "metadata": {
    "collapsed": true
   },
   "outputs": [],
   "source": []
  }
 ],
 "metadata": {
  "kernelspec": {
   "display_name": "Python 3",
   "language": "python",
   "name": "python3"
  },
  "language_info": {
   "codemirror_mode": {
    "name": "ipython",
    "version": 3
   },
   "file_extension": ".py",
   "mimetype": "text/x-python",
   "name": "python",
   "nbconvert_exporter": "python",
   "pygments_lexer": "ipython3",
   "version": "3.6.1"
  }
 },
 "nbformat": 4,
 "nbformat_minor": 2
}
