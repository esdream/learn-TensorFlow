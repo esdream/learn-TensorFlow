{
 "cells": [
  {
   "cell_type": "code",
   "execution_count": 1,
   "metadata": {
    "collapsed": true
   },
   "outputs": [],
   "source": [
    "import os\n",
    "from PIL import Image"
   ]
  },
  {
   "cell_type": "code",
   "execution_count": 12,
   "metadata": {
    "collapsed": true
   },
   "outputs": [],
   "source": [
    "def split_green_band(classes_path):\n",
    "    for img_dir in os.listdir(classes_path):\n",
    "        if(os.path.isdir(img_dir)):\n",
    "            g_band_dir = os.path.join(classes_path, '{}_{}'.format(img_dir, 'g_band'))\n",
    "            if not os.path.exists(g_band_dir):\n",
    "                os.makedirs(g_band_dir)\n",
    "                \n",
    "                for img_file in os.listdir(img_dir):\n",
    "                    img_path = os.path.join(img_dir, img_file)\n",
    "                    img = Image.open(img_path).resize((128, 128))\n",
    "                    r, g, b = img.split()\n",
    "\n",
    "                    img_file, suffix = os.path.splitext(img_file)\n",
    "                    g.save(os.path.join(g_band_dir, '{}_{}.jpg'.format(img_file, 'g_band')))\n",
    "            else:\n",
    "                print('Dir is existed!')"
   ]
  },
  {
   "cell_type": "code",
   "execution_count": 13,
   "metadata": {},
   "outputs": [],
   "source": [
    "split_green_band('.')"
   ]
  }
 ],
 "metadata": {
  "kernelspec": {
   "display_name": "Python 3",
   "language": "python",
   "name": "python3"
  },
  "language_info": {
   "codemirror_mode": {
    "name": "ipython",
    "version": 3
   },
   "file_extension": ".py",
   "mimetype": "text/x-python",
   "name": "python",
   "nbconvert_exporter": "python",
   "pygments_lexer": "ipython3",
   "version": "3.6.1"
  }
 },
 "nbformat": 4,
 "nbformat_minor": 2
}
